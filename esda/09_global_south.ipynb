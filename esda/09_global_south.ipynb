{
 "cells": [
  {
   "cell_type": "code",
   "execution_count": 1,
   "metadata": {
    "collapsed": false
   },
   "outputs": [
    {
     "name": "stdout",
     "output_type": "stream",
     "text": [
      "Populating the interactive namespace from numpy and matplotlib\n"
     ]
    }
   ],
   "source": [
    "from IPython.display import HTML\n",
    "import folium\n",
    "import random as RD\n",
    "import pandas as pd\n",
    "import pysal as ps\n",
    "%pylab inline\n"
   ]
  },
  {
   "cell_type": "code",
   "execution_count": 2,
   "metadata": {
    "collapsed": false
   },
   "outputs": [],
   "source": [
    "def inline_map(map):\n",
    "    \"\"\"\n",
    "    Embeds the HTML source of the map directly into the IPython notebook.\n",
    "    \n",
    "    This method will not work if the map depends on any files (json data). Also this uses\n",
    "    the HTML5 srcdoc attribute, which may not be supported in all browsers.\n",
    "    \"\"\"\n",
    "    map._build_map()\n",
    "    return HTML('<iframe srcdoc=\"{srcdoc}\" style=\"width: 100%; height: 510px; border: none\"></iframe>'.format(srcdoc=map.HTML.replace('\"', '&quot;')))\n",
    "\n",
    "def embed_map(map, path=\"map.html\"):\n",
    "    \"\"\"\n",
    "    Embeds a linked iframe to the map into the IPython notebook.\n",
    "    \n",
    "    Note: this method will not capture the source of the map into the notebook.\n",
    "    This method should work for all maps (as long as they use relative urls).\n",
    "    \"\"\"\n",
    "    map.create_map(path=path)\n",
    "    return HTML('<iframe src=\"files/{path}\" style=\"width: 100%; height: 510px; border: none\"></iframe>'.format(path=path))"
   ]
  },
  {
   "cell_type": "markdown",
   "metadata": {},
   "source": [
    "## Binding Attribute Data to the Map"
   ]
  },
  {
   "cell_type": "code",
   "execution_count": 3,
   "metadata": {
    "collapsed": false
   },
   "outputs": [],
   "source": [
    "import json\n",
    "\n",
    "f = open(r'data/south.json')\n",
    "q = json.load(f)\n",
    "f.close()"
   ]
  },
  {
   "cell_type": "code",
   "execution_count": 4,
   "metadata": {
    "collapsed": false
   },
   "outputs": [
    {
     "data": {
      "text/plain": [
       "[u'type', u'features']"
      ]
     },
     "execution_count": 4,
     "metadata": {},
     "output_type": "execute_result"
    }
   ],
   "source": [
    "q.keys()"
   ]
  },
  {
   "cell_type": "code",
   "execution_count": 5,
   "metadata": {
    "collapsed": false
   },
   "outputs": [
    {
     "data": {
      "text/plain": [
       "1412"
      ]
     },
     "execution_count": 5,
     "metadata": {},
     "output_type": "execute_result"
    }
   ],
   "source": [
    "features = q['features']\n",
    "len(features)"
   ]
  },
  {
   "cell_type": "code",
   "execution_count": 6,
   "metadata": {
    "collapsed": false
   },
   "outputs": [],
   "source": [
    "feature_0 = features[0]"
   ]
  },
  {
   "cell_type": "code",
   "execution_count": 7,
   "metadata": {
    "collapsed": false
   },
   "outputs": [
    {
     "data": {
      "text/plain": [
       "{u'geometry': {u'coordinates': [[[-80.6280517578125, 40.39815902709961],\n",
       "    [-80.60203552246094, 40.480472564697266],\n",
       "    [-80.62545776367188, 40.504398345947266],\n",
       "    [-80.6336441040039, 40.53913879394531],\n",
       "    [-80.6688232421875, 40.568214416503906],\n",
       "    [-80.66793060302734, 40.58207321166992],\n",
       "    [-80.63754272460938, 40.61391830444336],\n",
       "    [-80.61175537109375, 40.619998931884766],\n",
       "    [-80.57462310791016, 40.615909576416016],\n",
       "    [-80.52220916748047, 40.63713836669922],\n",
       "    [-80.52456665039062, 40.47871780395508],\n",
       "    [-80.52377319335938, 40.4029655456543],\n",
       "    [-80.6280517578125, 40.39815902709961]]],\n",
       "  u'type': u'Polygon'},\n",
       " u'properties': {u'BLK60': 3.839454752,\n",
       "  u'BLK70': 3.2554278095,\n",
       "  u'BLK80': 2.5607402642,\n",
       "  u'BLK90': 2.5572616581,\n",
       "  u'CNTY_FIPS': u'029',\n",
       "  u'COFIPS': 29.0,\n",
       "  u'DNL60': 6.1681225056,\n",
       "  u'DNL70': 6.1714993547,\n",
       "  u'DNL80': 6.1714631077,\n",
       "  u'DNL90': 6.0508978146,\n",
       "  u'DV60': 2.2779893943,\n",
       "  u'DV70': 2.5591397849,\n",
       "  u'DV80': 5.0619350519,\n",
       "  u'DV90': 7.2636377003,\n",
       "  u'FH60': 9.9812973718,\n",
       "  u'FH70': 7.8,\n",
       "  u'FH80': 9.7857968181,\n",
       "  u'FH90': 12.604551644,\n",
       "  u'FIPS': u'54029',\n",
       "  u'FIPSNO': 54029.0,\n",
       "  u'FP59': 9.6,\n",
       "  u'FP69': 5.9,\n",
       "  u'FP79': 6.5327526442,\n",
       "  u'FP89': 10.17311807,\n",
       "  u'GI59': 0.2236450331,\n",
       "  u'GI69': 0.2953773833,\n",
       "  u'GI79': 0.3322512119,\n",
       "  u'GI89': 0.3639335641,\n",
       "  u'HC60': 0.6666666667,\n",
       "  u'HC70': 1.6666666667,\n",
       "  u'HC80': 2.6666666667,\n",
       "  u'HC90': 0.3333333333,\n",
       "  u'HR60': 1.6828642349,\n",
       "  u'HR70': 4.1929776011,\n",
       "  u'HR80': 6.5977204876,\n",
       "  u'HR90': 0.9460827444,\n",
       "  u'MA60': 28.9,\n",
       "  u'MA70': 30.0,\n",
       "  u'MA80': 31.4,\n",
       "  u'MA90': 37.7,\n",
       "  u'MFIL59': 8.8410143105,\n",
       "  u'MFIL69': 9.2471543451,\n",
       "  u'MFIL79': 10.073356901,\n",
       "  u'MFIL89': 10.327970666,\n",
       "  u'NAME': u'Hancock',\n",
       "  u'PO60': 39615,\n",
       "  u'PO70': 39749,\n",
       "  u'PO80': 40418,\n",
       "  u'PO90': 35233,\n",
       "  u'POL60': 10.586963113,\n",
       "  u'POL70': 10.590339963,\n",
       "  u'POL80': 10.607030509,\n",
       "  u'POL90': 10.469738422,\n",
       "  u'PS60': 1.218684208,\n",
       "  u'PS70': 1.1368342185,\n",
       "  u'PS80': 1.0385705291,\n",
       "  u'PS90': 0.8964534429,\n",
       "  u'RD60': -1.394676863,\n",
       "  u'RD70': -1.307438562,\n",
       "  u'RD80': -1.159302086,\n",
       "  u'RD90': -0.399028376,\n",
       "  u'SOUTH': 1,\n",
       "  u'STATE_FIPS': u'54',\n",
       "  u'STATE_NAME': u'West Virginia',\n",
       "  u'STFIPS': 54.0,\n",
       "  u'UE60': 3.1,\n",
       "  u'UE70': 2.7,\n",
       "  u'UE80': 7.0763827919,\n",
       "  u'UE90': 6.8578070515},\n",
       " u'type': u'Feature'}"
      ]
     },
     "execution_count": 7,
     "metadata": {},
     "output_type": "execute_result"
    }
   ],
   "source": [
    "feature_0"
   ]
  },
  {
   "cell_type": "code",
   "execution_count": 8,
   "metadata": {
    "collapsed": false
   },
   "outputs": [],
   "source": [
    "import pandas as pd\n",
    "indices = []\n",
    "values = []\n",
    "for feature in features:\n",
    "    indices.append(str(feature['properties']['FIPS']))\n",
    "    values.append(feature['properties']['HR80'])"
   ]
  },
  {
   "cell_type": "code",
   "execution_count": 9,
   "metadata": {
    "collapsed": false
   },
   "outputs": [],
   "source": [
    "df = pd.DataFrame({'HR80': values,\n",
    "                   'FIPS': indices} )"
   ]
  },
  {
   "cell_type": "code",
   "execution_count": 10,
   "metadata": {
    "collapsed": false
   },
   "outputs": [
    {
     "data": {
      "text/html": [
       "<iframe src=\"files/map.html\" style=\"width: 100%; height: 510px; border: none\"></iframe>"
      ],
      "text/plain": [
       "<IPython.core.display.HTML object>"
      ]
     },
     "execution_count": 10,
     "metadata": {},
     "output_type": "execute_result"
    }
   ],
   "source": [
    "\n",
    "map_osm = folium.Map(location=[33.7550, -87.3900], zoom_start=5,)\n",
    "map_osm.geo_json(geo_path='data/south.json',\n",
    "                 key_on='feature.properties.FIPS',\n",
    "                 data_out='data.json', data=df,\n",
    "                 columns=['FIPS','HR80'],\n",
    "                 fill_color='YlGnBu', fill_opacity=0.7,\n",
    "                 line_opacity=0.2,\n",
    "                 legend_name='Homicide Rate HR80')\n",
    "embed_map(map_osm)\n"
   ]
  },
  {
   "cell_type": "code",
   "execution_count": 11,
   "metadata": {
    "collapsed": false
   },
   "outputs": [],
   "source": [
    "y = np.array(df.HR80.tolist())"
   ]
  },
  {
   "cell_type": "code",
   "execution_count": 12,
   "metadata": {
    "collapsed": false
   },
   "outputs": [
    {
     "data": {
      "text/html": [
       "<iframe src=\"files/map.html\" style=\"width: 100%; height: 510px; border: none\"></iframe>"
      ],
      "text/plain": [
       "<IPython.core.display.HTML object>"
      ]
     },
     "execution_count": 12,
     "metadata": {},
     "output_type": "execute_result"
    }
   ],
   "source": [
    "bins= ps.Quantiles(y, 5).bins.tolist()\n",
    "map_osm = folium.Map(location=[33.7550, -87.3900], zoom_start=5,)\n",
    "map_osm.geo_json(geo_path='data/south.json',\n",
    "                 key_on='feature.properties.FIPS',\n",
    "                 data_out='data.json', data=df,\n",
    "                 columns=['FIPS','HR80'],\n",
    "                 fill_color='YlGnBu', fill_opacity=0.7,\n",
    "                 line_opacity=0.2,\n",
    "                 threshold_scale=bins[:-1],\n",
    "                 legend_name='Homicide Rate HR80 (Quantiles k=5)')\n",
    "embed_map(map_osm)"
   ]
  },
  {
   "cell_type": "markdown",
   "metadata": {},
   "source": [
    "## Global Spatial Autocorrelation"
   ]
  },
  {
   "cell_type": "code",
   "execution_count": 13,
   "metadata": {
    "collapsed": false
   },
   "outputs": [],
   "source": [
    "w = ps.queen_from_shapefile('data/south.shp')"
   ]
  },
  {
   "cell_type": "code",
   "execution_count": 14,
   "metadata": {
    "collapsed": false
   },
   "outputs": [
    {
     "data": {
      "text/plain": [
       "1412"
      ]
     },
     "execution_count": 14,
     "metadata": {},
     "output_type": "execute_result"
    }
   ],
   "source": [
    "w.n"
   ]
  },
  {
   "cell_type": "code",
   "execution_count": 15,
   "metadata": {
    "collapsed": false
   },
   "outputs": [],
   "source": [
    "w.transform = 'r'"
   ]
  },
  {
   "cell_type": "code",
   "execution_count": 16,
   "metadata": {
    "collapsed": false
   },
   "outputs": [],
   "source": [
    "np.random.seed(12345)\n",
    "mi_hr80 = ps.Moran(y, w)"
   ]
  },
  {
   "cell_type": "code",
   "execution_count": 17,
   "metadata": {
    "collapsed": false
   },
   "outputs": [
    {
     "data": {
      "text/plain": [
       "0.001"
      ]
     },
     "execution_count": 17,
     "metadata": {},
     "output_type": "execute_result"
    }
   ],
   "source": [
    "mi_hr80.p_sim"
   ]
  },
  {
   "cell_type": "code",
   "execution_count": 18,
   "metadata": {
    "collapsed": false
   },
   "outputs": [
    {
     "data": {
      "text/plain": [
       "0.25211526521758659"
      ]
     },
     "execution_count": 18,
     "metadata": {},
     "output_type": "execute_result"
    }
   ],
   "source": [
    "mi_hr80.I"
   ]
  },
  {
   "cell_type": "code",
   "execution_count": 19,
   "metadata": {
    "collapsed": false
   },
   "outputs": [
    {
     "data": {
      "text/plain": [
       "-0.0007087172218284905"
      ]
     },
     "execution_count": 19,
     "metadata": {},
     "output_type": "execute_result"
    }
   ],
   "source": [
    "mi_hr80.EI"
   ]
  },
  {
   "cell_type": "code",
   "execution_count": 20,
   "metadata": {
    "collapsed": false
   },
   "outputs": [
    {
     "data": {
      "text/plain": [
       "0.0"
      ]
     },
     "execution_count": 20,
     "metadata": {},
     "output_type": "execute_result"
    }
   ],
   "source": [
    "mi_hr80.p_norm"
   ]
  },
  {
   "cell_type": "raw",
   "metadata": {},
   "source": [
    "Create a random map"
   ]
  },
  {
   "cell_type": "code",
   "execution_count": 21,
   "metadata": {
    "collapsed": false
   },
   "outputs": [],
   "source": [
    "yr = np.random.permutation(y)"
   ]
  },
  {
   "cell_type": "code",
   "execution_count": 22,
   "metadata": {
    "collapsed": false
   },
   "outputs": [],
   "source": [
    "df['yrandom'] = yr"
   ]
  },
  {
   "cell_type": "code",
   "execution_count": 23,
   "metadata": {
    "collapsed": false
   },
   "outputs": [
    {
     "data": {
      "text/plain": [
       "numpy.ndarray"
      ]
     },
     "execution_count": 23,
     "metadata": {},
     "output_type": "execute_result"
    }
   ],
   "source": [
    "type(y)"
   ]
  },
  {
   "cell_type": "code",
   "execution_count": 24,
   "metadata": {
    "collapsed": false
   },
   "outputs": [
    {
     "data": {
      "text/html": [
       "<iframe src=\"files/map.html\" style=\"width: 100%; height: 510px; border: none\"></iframe>"
      ],
      "text/plain": [
       "<IPython.core.display.HTML object>"
      ]
     },
     "execution_count": 24,
     "metadata": {},
     "output_type": "execute_result"
    }
   ],
   "source": [
    "bins= ps.Quantiles(y, 5).bins.tolist()\n",
    "map_osm = folium.Map(location=[33.7550, -87.3900], zoom_start=5,)\n",
    "map_osm.geo_json(geo_path='data/south.json',\n",
    "                 key_on='feature.properties.FIPS',\n",
    "                 data_out='data.json', data=df,\n",
    "                 columns=['FIPS','HR80'],\n",
    "                 fill_color='YlGnBu', fill_opacity=0.7,\n",
    "                 line_opacity=0.2,\n",
    "                 threshold_scale=bins[:-1],\n",
    "                 legend_name='Homicide Rate HR80 (Quantiles k=5)')\n",
    "embed_map(map_osm)"
   ]
  },
  {
   "cell_type": "code",
   "execution_count": 25,
   "metadata": {
    "collapsed": false
   },
   "outputs": [
    {
     "data": {
      "text/html": [
       "<iframe src=\"files/map.html\" style=\"width: 100%; height: 510px; border: none\"></iframe>"
      ],
      "text/plain": [
       "<IPython.core.display.HTML object>"
      ]
     },
     "execution_count": 25,
     "metadata": {},
     "output_type": "execute_result"
    }
   ],
   "source": [
    "bins= ps.Quantiles(y, 5).bins.tolist()\n",
    "map_osm = folium.Map(location=[33.7550, -87.3900], zoom_start=5,)\n",
    "map_osm.geo_json(geo_path='data/south.json',\n",
    "                 key_on='feature.properties.FIPS',\n",
    "                 data_out='data.json', data=df,\n",
    "                 columns=['FIPS','yrandom'],\n",
    "                 fill_color='YlGnBu', fill_opacity=0.7,\n",
    "                 line_opacity=0.2,\n",
    "                 threshold_scale=bins[:-1],\n",
    "                 legend_name='Spatially Random Homicide Rate HR80 (Quantiles k=5)')\n",
    "embed_map(map_osm)"
   ]
  },
  {
   "cell_type": "code",
   "execution_count": 26,
   "metadata": {
    "collapsed": false
   },
   "outputs": [],
   "source": [
    "mi_hr80_random = ps.Moran(df['yrandom'],w)"
   ]
  },
  {
   "cell_type": "code",
   "execution_count": 27,
   "metadata": {
    "collapsed": false
   },
   "outputs": [
    {
     "data": {
      "text/plain": [
       "-0.007510039540774522"
      ]
     },
     "execution_count": 27,
     "metadata": {},
     "output_type": "execute_result"
    }
   ],
   "source": [
    "mi_hr80_random.I"
   ]
  },
  {
   "cell_type": "code",
   "execution_count": 28,
   "metadata": {
    "collapsed": false
   },
   "outputs": [
    {
     "data": {
      "text/plain": [
       "0.34799999999999998"
      ]
     },
     "execution_count": 28,
     "metadata": {},
     "output_type": "execute_result"
    }
   ],
   "source": [
    "mi_hr80_random.p_sim"
   ]
  },
  {
   "cell_type": "code",
   "execution_count": 29,
   "metadata": {
    "collapsed": false
   },
   "outputs": [],
   "source": [
    "from scipy.stats import gaussian_kde"
   ]
  },
  {
   "cell_type": "code",
   "execution_count": 30,
   "metadata": {
    "collapsed": false
   },
   "outputs": [
    {
     "data": {
      "text/plain": [
       "<matplotlib.text.Text at 0x7fba88781a90>"
      ]
     },
     "execution_count": 30,
     "metadata": {},
     "output_type": "execute_result"
    },
    {
     "data": {
      "image/png": "[encoded data removed]",
      "text/plain": [
       "<matplotlib.figure.Figure at 0x7fbab4126e10>"
      ]
     },
     "metadata": {},
     "output_type": "display_data"
    }
   ],
   "source": [
    "density = gaussian_kde(mi_hr80.sim)\n",
    "xs = linspace(mi_hr80.sim.min(),mi_hr80.sim.max(),200)\n",
    "plot(xs, density(xs))\n",
    "axvline(x=mi_hr80.I, color='r')\n",
    "xlabel('I')\n",
    "ylabel('f(I)')"
   ]
  },
  {
   "cell_type": "code",
   "execution_count": 31,
   "metadata": {
    "collapsed": false
   },
   "outputs": [
    {
     "data": {
      "text/plain": [
       "<matplotlib.text.Text at 0x7fba894b6b50>"
      ]
     },
     "execution_count": 31,
     "metadata": {},
     "output_type": "execute_result"
    },
    {
     "data": {
      "image/png": "[encoded data removed]",
      "text/plain": [
       "<matplotlib.figure.Figure at 0x7fba8965e810>"
      ]
     },
     "metadata": {},
     "output_type": "display_data"
    }
   ],
   "source": [
    "density = gaussian_kde(mi_hr80.sim)\n",
    "xs = linspace(mi_hr80.sim.min(),mi_hr80.sim.max(),200)\n",
    "plot(xs, density(xs))\n",
    "axvline(x=mi_hr80.I, color='r')\n",
    "axvline(x=mi_hr80_random.I, color='g')\n",
    "xlabel('I')\n",
    "ylabel('f(I)')"
   ]
  },
  {
   "cell_type": "code",
   "execution_count": null,
   "metadata": {
    "collapsed": false
   },
   "outputs": [],
   "source": []
  },
  {
   "cell_type": "markdown",
   "metadata": {},
   "source": [
    "## Getis Ord Global G"
   ]
  },
  {
   "cell_type": "code",
   "execution_count": 32,
   "metadata": {
    "collapsed": false
   },
   "outputs": [],
   "source": [
    "wd = ps.G(y,w, permutations=999)"
   ]
  },
  {
   "cell_type": "code",
   "execution_count": 33,
   "metadata": {
    "collapsed": false
   },
   "outputs": [
    {
     "data": {
      "text/plain": [
       "0.0"
      ]
     },
     "execution_count": 33,
     "metadata": {},
     "output_type": "execute_result"
    }
   ],
   "source": [
    "wd.p_norm"
   ]
  },
  {
   "cell_type": "code",
   "execution_count": 34,
   "metadata": {
    "collapsed": false
   },
   "outputs": [
    {
     "data": {
      "text/plain": [
       "0.001"
      ]
     },
     "execution_count": 34,
     "metadata": {},
     "output_type": "execute_result"
    }
   ],
   "source": [
    "wd.p_sim"
   ]
  },
  {
   "cell_type": "code",
   "execution_count": 34,
   "metadata": {
    "collapsed": false
   },
   "outputs": [],
   "source": []
  },
  {
   "cell_type": "code",
   "execution_count": null,
   "metadata": {
    "collapsed": false
   },
   "outputs": [],
   "source": []
  }
 ],
 "metadata": {
  "kernelspec": {
   "display_name": "Python 2",
   "language": "python",
   "name": "python2"
  },
  "language_info": {
   "codemirror_mode": {
    "name": "ipython",
    "version": 2
   },
   "file_extension": ".py",
   "mimetype": "text/x-python",
   "name": "python",
   "nbconvert_exporter": "python",
   "pygments_lexer": "ipython2",
   "version": "2.7.9"
  }
 },
 "nbformat": 4,
 "nbformat_minor": 0
}
