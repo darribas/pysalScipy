{
 "cells": [
  {
   "cell_type": "markdown",
   "metadata": {},
   "source": [
    "# Spatial Data Analysis with PySAL\n",
    "\n",
    "Author: Sergio Rey\n",
    "\n",
    "Date: 2015-07-14\n",
    "\n",
    "Location: SciPy 2015, Austin Texas"
   ]
  },
  {
   "cell_type": "markdown",
   "metadata": {},
   "source": [
    "##Introduction\n",
    "\n",
    "A unique feature of this tutorial is the use of Python based software tools for spatial data analysis. Python is an object oriented scripting language that is gaining rapid adoption in the scientific computing and data science communities. To facilitate its adoption within the GIScience community, Rey and Anselin have collaborated on the creation of PySAL: Python Library for Spatial Analysis. Since its initial release in July 2010, PySAL has been downloaded over 50,000 times and is now included in well- known open source scientific data analysis distributions, such as Anaconda. This two-part tutorial will introduce participants to the latest version of PySAL.  "
   ]
  },
  {
   "cell_type": "markdown",
   "metadata": {},
   "source": [
    "##Outline\n",
    "\n",
    "\n",
    "### Exploratory Spatial Data Analysis with PySAL\n",
    "\n",
    "- PySAL introduction\n",
    "- Notebooks and installation\n",
    "- Visualization\n",
    "- Spatial data processing\n",
    "- Spatial weights\n",
    "- GeoVisualization\n",
    "- Global spatial autocorrelation\n",
    "- Local spatial autocorrelation\n",
    "\n"
   ]
  },
  {
   "cell_type": "markdown",
   "metadata": {},
   "source": [
    "# PySAL: Python Spatial Analysis Library\n",
    "\n",
    "\n",
    "\n",
    "## Origins and Objectives\n",
    "\n",
    "- Leverage Existing Tools Development\n",
    "\n",
    "    - GeoDa/PySpace\n",
    "    - STARS\n",
    "\n",
    "- Develop Core Library\n",
    "\n",
    "    - spatial data *analytical* functions\n",
    "    - enhanced specialization and modularity\n",
    "    - fill *void* in geospatial Python libraries\n",
    "    \n",
    "- Flexible Delivery Mechanisms\n",
    "\n",
    "    - interactive shell\n",
    "    - GUI\n",
    "    - Toolkits\n",
    "    - webservices\n",
    "\n",
    "\n"
   ]
  },
  {
   "cell_type": "markdown",
   "metadata": {},
   "source": [
    "## Components\n",
    "![PySAL](figures/pysalgraph.png)\n",
    "\n",
    "\n"
   ]
  },
  {
   "cell_type": "markdown",
   "metadata": {},
   "source": [
    "## Delivery Mechanisms\n",
    "\n",
    "### Interactive Shell: iPython Notebook\n",
    "![pysalipnb](figures/pysalnb.png)\n",
    "\n",
    "\n",
    "\n",
    "\n",
    "\n",
    "### Toolkits: ArcGIS + spreg\n",
    "![arctool](figures/10_arctool.png)\n",
    "### Toolkits: QGIS + pysal\n",
    "![arctool](figures/qgis.png)\n",
    "### Webservices: cgPySAL\n",
    "\n",
    "\n",
    "![cgpysal](figures/cgpysal.png)\n",
    "\n",
    "\n",
    "### GUI: Crime Analytics for Space-Time (CAST)\n",
    "\n",
    "![cast](figures/cast.png)\n",
    "\n",
    "### GUI: GeoDaSpace (PySAL-spreg)\n",
    "![gsgui](figures/gsgui.png)\n",
    "\n",
    "![gsout](figures/gsoutput.png)\n",
    "\n",
    "![weightsviewer](figures/weightsviewer.png)\n",
    "\n"
   ]
  },
  {
   "cell_type": "markdown",
   "metadata": {},
   "source": [
    "## Team\n",
    "\n",
    "\n",
    "\n",
    "| Serge Rey       | Luc Anselin      |\n",
    "|-----------------|------------------|\n",
    "| Charles Schnidt | David Folch      |\n",
    "| Myunghwa Hwang  | Dani Arribas     |\n",
    "| Phil Stephens   | Julia Koschinsky |\n",
    "| Pedro Amaral    | Nick Malizia     |\n",
    "| Xing Kang       | Xun Li           |\n",
    "| Mark McCann     | Ran Wei          |\n",
    "| Nancy Lozano    | Jing Yao         |\n",
    "| Jay Laura       | Levi Wolf        |\n",
    "| Sizhe Wang      | Wei Kang         |\n",
    "\n",
    "\n",
    "and, contributions from *many* others!\n",
    "\n",
    "\n",
    "\n",
    "## Releases\n",
    "\n",
    "### Six-Month Release Cycle\n",
    "  - 1.0 July 2010\n",
    "  - 1.1 January 2011\n",
    "  - 1.2 July 2011\n",
    "  - 1.3 January 2012\n",
    "  - 1.4 July 2012\n",
    "  - 1.5 January 2013\n",
    "  - 1.6 July 2013\n",
    "  - 1.7 January 2014\n",
    "  - 1.8 July 2014\n",
    "  - 1.9 January 2015\n",
    "  \n",
    "### Scientific Python Distributions\n",
    "\n",
    "![anaconda](figures/anaconda.png)\n",
    "\n",
    "## Acknowledgements\n",
    "\n",
    "![funding](figures/ack.png)\n",
    "\n",
    "\n",
    "  \n",
    "## Development\n",
    "\n",
    "[![PySAL.org](figures/pysal_org.png)](http://pysal.org)\n",
    "\n",
    "## References\n",
    "\n",
    "1. S. J. Rey. Python Spatial Analysis Library (PySAL): An update and illustration. In C. Brunsdon and A. SIngleton, editors, Geocomputation. Sage, In Press 2014.\n",
    "2. S. J. Rey and L. Anselin. PySAL: A Python library of spatial analytical methods. In M. M. Fischer and A. Getis, editors, Handbook of Applied Spatial Analysis, pages 175–193. Springer, Berlin, 2010.\n",
    "\n",
    "\n"
   ]
  },
  {
   "cell_type": "code",
   "execution_count": 0,
   "metadata": {
    "collapsed": false
   },
   "outputs": [],
   "source": []
  },
  {
   "cell_type": "code",
   "execution_count": 0,
   "metadata": {
    "collapsed": false
   },
   "outputs": [],
   "source": []
  },
  {
   "cell_type": "code",
   "execution_count": 0,
   "metadata": {
    "collapsed": false
   },
   "outputs": [],
   "source": []
  },
  {
   "cell_type": "code",
   "execution_count": null,
   "metadata": {
    "collapsed": false
   },
   "outputs": [],
   "source": []
  }
 ],
 "metadata": {
  "kernelspec": {
   "display_name": "Python 2",
   "language": "python",
   "name": "python2"
  },
  "language_info": {
   "codemirror_mode": {
    "name": "ipython",
    "version": 2
   },
   "file_extension": ".py",
   "mimetype": "text/x-python",
   "name": "python",
   "nbconvert_exporter": "python",
   "pygments_lexer": "ipython2",
   "version": "2.7.9"
  }
 },
 "nbformat": 4,
 "nbformat_minor": 0
}
